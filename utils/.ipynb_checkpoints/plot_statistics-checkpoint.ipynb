{
 "cells": [
  {
   "cell_type": "code",
   "execution_count": 2,
   "id": "9c7add86",
   "metadata": {},
   "outputs": [],
   "source": [
    "import os\n",
    "import sys\n",
    "import numpy as np\n",
    "import argparse\n",
    "import h5py\n",
    "import pickle\n",
    "import matplotlib.pyplot as plt\n",
    "\n",
    "from utilities import create_folder"
   ]
  },
  {
   "cell_type": "code",
   "execution_count": 4,
   "id": "4c81bea6",
   "metadata": {},
   "outputs": [],
   "source": [
    "def plot(args):\n",
    "    \n",
    "    # Arguments & parameters\n",
    "    workspace = args.workspace\n",
    "    select = args.select\n",
    "    \n",
    "    max_plot_iteration = 300001\n",
    "    iterations = np.arange(0, max_plot_iteration, 5000)\n",
    "    metric_types = ['frame_ap', 'reg_onset_mae', 'reg_offset_mae', \n",
    "        'velocity_mae', 'reg_pedal_onset_mae', 'reg_pedal_offset_mae']\n",
    "        \n",
    "    save_out_path = 'results/{}.pdf'.format(select)\n",
    "    create_folder(os.path.dirname(save_out_path))\n",
    "    \n",
    "    # Plot\n",
    "    fig, axes = plt.subplots(2, 3, figsize=(8, 5))\n",
    "    lines = []\n",
    "        \n",
    "    def _load_metrics(filename, model_type, loss_type, augmentation, \n",
    "        max_note_shift, batch_size, data_type, metric_type):\n",
    "        statistics_path = os.path.join(workspace, 'statistics', filename, \n",
    "            model_type, 'loss_type={}'.format(loss_type), \n",
    "            'augmentation={}'.format(augmentation), 'max_note_shift={}'.format(max_note_shift), \n",
    "            'batch_size={}'.format(batch_size), 'statistics.pkl')\n",
    "\n",
    "        statistics_dict = pickle.load(open(statistics_path, 'rb'))\n",
    "\n",
    "        if metric_type in statistics_dict[data_type][0].keys():\n",
    "            metrics = np.array([statistics[metric_type] for statistics in statistics_dict[data_type]])\n",
    "            return metrics\n",
    "        else:\n",
    "            return None\n",
    "        \n",
    "    ylims = [[0, 1], [0, 0.5], [0, 0.5], [0, 0.3], [0, 0.3], [0, 0.3]]\n",
    "    legend_locs = [4, 1, 1, 1, 1, 1]\n",
    "    \n",
    "\n",
    "    if select == '1a':\n",
    "\n",
    "        for j, metric_type in enumerate(metric_types):\n",
    "            lines = []\n",
    "            for data_type in ['train', 'test']:\n",
    "\n",
    "                metrics = _load_metrics('main', \n",
    "                    'Regress_onset_offset_frame_velocity_CRNN', \n",
    "                    'regress_onset_offset_frame_velocity_bce', 'none', 0, 12, \n",
    "                    data_type, metric_type)\n",
    "                \n",
    "                if metrics is not None:\n",
    "                    line, = axes[j // 3, j % 3].plot(metrics, label=data_type)\n",
    "                    lines.append(line)\n",
    "\n",
    "            axes[j // 3, j % 3].set_title(metric_type)\n",
    "            axes[j // 3, j % 3].legend(handles=lines, loc=legend_locs[j])\n",
    "            axes[j // 3, j % 3].set_ylim(ylims[j][0], ylims[j][1])\n",
    "            axes[j // 3, j % 3].set_xlim(0, len(iterations))\n",
    "            axes[j // 3, j % 3].xaxis.set_ticks(np.arange(0, len(iterations), 20))\n",
    "            axes[j // 3, j % 3].xaxis.set_ticklabels(['0', '100k', '200k', '300k'])\n",
    "            axes[j // 3, j % 3].set_xlabel('Iterations')\n",
    "                \n",
    "    plt.tight_layout(0, 1, 0)\n",
    "    plt.savefig(save_out_path)\n",
    "    print('Write out to {}'.format(save_out_path))"
   ]
  },
  {
   "cell_type": "code",
   "execution_count": 5,
   "id": "eaafe106",
   "metadata": {},
   "outputs": [
    {
     "name": "stderr",
     "output_type": "stream",
     "text": [
      "usage: ipykernel_launcher.py [-h] {plot} ...\n",
      "ipykernel_launcher.py: error: argument mode: invalid choice: '/root/.local/share/jupyter/runtime/kernel-3aa5d6d9-b1a1-4609-82a3-83519dc8ba19.json' (choose from 'plot')\n"
     ]
    },
    {
     "ename": "SystemExit",
     "evalue": "2",
     "output_type": "error",
     "traceback": [
      "An exception has occurred, use %tb to see the full traceback.\n",
      "\u001b[0;31mSystemExit\u001b[0m\u001b[0;31m:\u001b[0m 2\n"
     ]
    },
    {
     "name": "stderr",
     "output_type": "stream",
     "text": [
      "/usr/local/lib/python3.6/dist-packages/IPython/core/interactiveshell.py:3304: UserWarning: To exit: use 'exit', 'quit', or Ctrl-D.\n",
      "  warn(\"To exit: use 'exit', 'quit', or Ctrl-D.\", stacklevel=1)\n"
     ]
    }
   ],
   "source": [
    "if __name__ == '__main__':\n",
    "\n",
    "    parser = argparse.ArgumentParser(description='')\n",
    "    subparsers = parser.add_subparsers(dest='mode')\n",
    "    \n",
    "    parser_plot = subparsers.add_parser('plot')\n",
    "    parser_plot.add_argument('--workspace', type=str, required=True)\n",
    "    parser_plot.add_argument('--select', type=str, required=True)\n",
    "    \n",
    "    args = parser.parse_args()\n",
    "\n",
    "    if args.mode == 'plot':\n",
    "        plot(args)\n",
    "        \n",
    "    else:\n",
    "        raise Exception('Error argument!')    "
   ]
  },
  {
   "cell_type": "code",
   "execution_count": null,
   "id": "00ded363",
   "metadata": {},
   "outputs": [],
   "source": []
  }
 ],
 "metadata": {
  "kernelspec": {
   "display_name": "Python 3",
   "language": "python",
   "name": "python3"
  },
  "language_info": {
   "codemirror_mode": {
    "name": "ipython",
    "version": 3
   },
   "file_extension": ".py",
   "mimetype": "text/x-python",
   "name": "python",
   "nbconvert_exporter": "python",
   "pygments_lexer": "ipython3",
   "version": "3.6.7"
  }
 },
 "nbformat": 4,
 "nbformat_minor": 5
}
