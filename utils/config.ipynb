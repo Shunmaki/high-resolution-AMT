{
 "cells": [
  {
   "cell_type": "code",
   "execution_count": null,
   "id": "7efcbb40",
   "metadata": {},
   "outputs": [],
   "source": [
    "sample_rate = 16000\n",
    "classes_num = 88    # Number of notes of piano\n",
    "begin_note = 21     # MIDI note of A0, the lowest note of a piano.\n",
    "segment_seconds = 10.\t# Training segment duration\n",
    "hop_seconds = 1.\n",
    "frames_per_second = 100\n",
    "velocity_scale = 128"
   ]
  }
 ],
 "metadata": {
  "kernelspec": {
   "display_name": "Python 3",
   "language": "python",
   "name": "python3"
  },
  "language_info": {
   "codemirror_mode": {
    "name": "ipython",
    "version": 3
   },
   "file_extension": ".py",
   "mimetype": "text/x-python",
   "name": "python",
   "nbconvert_exporter": "python",
   "pygments_lexer": "ipython3",
   "version": "3.6.7"
  }
 },
 "nbformat": 4,
 "nbformat_minor": 5
}
