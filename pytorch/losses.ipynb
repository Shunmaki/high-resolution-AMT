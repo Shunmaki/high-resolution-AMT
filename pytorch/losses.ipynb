{
 "cells": [
  {
   "cell_type": "code",
   "execution_count": 1,
   "id": "7fbcfaed",
   "metadata": {},
   "outputs": [],
   "source": [
    "import torch\n",
    "import torch.nn.functional as F"
   ]
  },
  {
   "cell_type": "code",
   "execution_count": 2,
   "id": "f2ed9003",
   "metadata": {},
   "outputs": [],
   "source": [
    "def bce(output, target, mask):\n",
    "    \"\"\"Binary crossentropy (BCE) with mask. The positional where mask=0 will be\n",
    "    deactivated when calculation BCE\n",
    "    \"\"\"\n",
    "    eps = 1e-7\n",
    "    output = torch.clamp(output, eps, 1. - eps)\n",
    "    matrix = - target * torch.long(output) - (1. - target) * torch.log(1. - output)\n",
    "    return torch.sum(matrix * mask) / torch.sum(mask)"
   ]
  },
  {
   "cell_type": "code",
   "execution_count": 3,
   "id": "21c7e115",
   "metadata": {},
   "outputs": [],
   "source": [
    "################## High-resolution regression loss ######################\n",
    "def regress_onset_offset_frame_velocity_bce(model, output_dict, target_dict):\n",
    "    \"\"\"High-resolution piano note regression loss, including onset regression,\n",
    "    offset regression, velocity regression and frame-wise classification losses.\n",
    "    \"\"\"\n",
    "    onset_loss = bce(output_dict['reg_onset_output'], target_dict['reg_onset_roll'], target_dict['mask_roll'])\n",
    "    offset_loss = bce(output_dict['reg_offset_output'], target_dict['reg_offset_roll'], target_dict['mask_roll'])\n",
    "    frame_loss = bce(output_dict['frame_output'], target_dict['frame_roll'], target_dict['mask_roll'])\n",
    "    velocity_loss = bce(output_dict['velocity_output'], target_dict['velocity_roll'], target_dict['mask_roll'])\n",
    "    total_loss = onset_loss + offset_loss + frame_loss + velocity_loss\n",
    "    return total_loss"
   ]
  },
  {
   "cell_type": "code",
   "execution_count": 4,
   "id": "22aa6050",
   "metadata": {},
   "outputs": [],
   "source": [
    "def regress_pedal_bce(model, output_dict, target_dict):\n",
    "    \"\"\"High-resolution piano pedal regression loss, including pedal onset \n",
    "    regression, pedal offset regression and pedal frame-wise classification losses.\n",
    "    \"\"\"\n",
    "    onset_pedal_loss = F.binary_cross_entropy(output_dict['reg_pedal_onset_output'], target_dict['reg_pedal_onset_roll'][:, :, None])\n",
    "    offset_pedal_loss = F.binary_cross_entropy(output_dict['reg_pedal_offset_output'], target_dict['reg_pedal_offset_roll'][:, :, None])\n",
    "    frame_pedal_loss = F.binary_cross_entropy(output_dict['pedal_frame_output'], target_dict['pedal_frame_roll'][:, :, None])\n",
    "    total_loss = onset_pedal_loss + offset_pedal_loss + frame_pedal_loss\n",
    "    return total_loss\n"
   ]
  },
  {
   "cell_type": "code",
   "execution_count": 5,
   "id": "759189d0",
   "metadata": {},
   "outputs": [],
   "source": [
    "############ Google's onsets and frames system loss ############\n",
    "def google_onset_offset_frame_velocity_bce(model, output_dict, target_dict):\n",
    "    \"\"\"Google's onsets and frames system piano note loss. Only used for comparison.\n",
    "    \"\"\"\n",
    "    onset_loss = bce(output_dict['reg_onset_output'], target_dict['onset_roll'], target_dict['mask_roll'])\n",
    "    offset_loss = bce(output_dict['reg_offset_output'], target_dict['offset_roll'], target_dict['mask_roll'])\n",
    "    frame_loss = bce(output_dict['frame_output'], target_dict['frame_roll'], target_dict['mask_roll'])\n",
    "    velocity_loss = bce(output_dict['velocity_output'], target_dict['velocity_roll'] / 128, target_dict['onset_roll'])\n",
    "    total_loss = onset_loss + offset_loss + frame_loss + velocity_loss\n",
    "    return total_loss\n"
   ]
  },
  {
   "cell_type": "code",
   "execution_count": 6,
   "id": "006b821f",
   "metadata": {},
   "outputs": [],
   "source": [
    "def google_pedal_bce(model, output_dict, target_dict):\n",
    "    \"\"\"Google's onsets and frames system piano pedal loss. Only used for comparison.\n",
    "    \"\"\"\n",
    "    onset_pedal_loss = F.binary_cross_entropy(output_dict['reg_pedal_onset_output'], target_dict['pedal_onset_roll'][:, :, None])\n",
    "    offset_pedal_loss = F.binary_cross_entropy(output_dict['reg_pedal_offset_output'], target_dict['pedal_offset_roll'][:, :, None])\n",
    "    frame_pedal_loss = F.binary_cross_entropy(output_dict['pedal_frame_output'], target_dict['pedal_frame_roll'][:, :, None])\n",
    "    total_loss = onset_pedal_loss + offset_pedal_loss + frame_pedal_loss\n",
    "    return total_loss\n"
   ]
  },
  {
   "cell_type": "code",
   "execution_count": 7,
   "id": "13e3e39e",
   "metadata": {},
   "outputs": [],
   "source": [
    "def get_loss_func(loss_type):\n",
    "    if loss_type == 'regress_onset_offset_frame_velocity_bce':\n",
    "        return regress_onset_offset_frame_velocity_bce\n",
    "\n",
    "    elif loss_type == 'regress_pedal_bce':\n",
    "        return regress_pedal_bce\n",
    "\n",
    "    elif loss_type == 'google_onset_offset_frame_velocity_bce':\n",
    "        return google_onset_offset_frame_velocity_bce\n",
    "\n",
    "    elif loss_type == 'google_pedal_bce':\n",
    "        return google_pedal_bce\n",
    "\n",
    "    else:\n",
    "        raise Exception('Incorrect loss_type!')"
   ]
  },
  {
   "cell_type": "code",
   "execution_count": null,
   "id": "7b683d76",
   "metadata": {},
   "outputs": [],
   "source": [
    "# 最後にコピー"
   ]
  }
 ],
 "metadata": {
  "kernelspec": {
   "display_name": "Python 3",
   "language": "python",
   "name": "python3"
  },
  "language_info": {
   "codemirror_mode": {
    "name": "ipython",
    "version": 3
   },
   "file_extension": ".py",
   "mimetype": "text/x-python",
   "name": "python",
   "nbconvert_exporter": "python",
   "pygments_lexer": "ipython3",
   "version": "3.6.7"
  }
 },
 "nbformat": 4,
 "nbformat_minor": 5
}
