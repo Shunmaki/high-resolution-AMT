{
 "cells": [
  {
   "cell_type": "code",
   "execution_count": 2,
   "id": "a7ae38a6",
   "metadata": {},
   "outputs": [],
   "source": [
    "import os\n",
    "import sys\n",
    "sys.path.insert(1, os.path.join(sys.path[0], '../utils'))\n",
    "import numpy as np\n",
    "import time\n",
    "import librosa\n",
    "import torch\n",
    "import torch.nn as nn\n",
    "\n",
    "# from utilities import pad_truncate_sequence"
   ]
  },
  {
   "cell_type": "code",
   "execution_count": 6,
   "id": "515a7761",
   "metadata": {},
   "outputs": [],
   "source": [
    "def move_data_to_device(x, device):\n",
    "    if 'float' in str(x.dtype):\n",
    "        x = torch.Tensor(x)\n",
    "    elif 'int' in str(x.dtype):\n",
    "        x = torch.LongTensor(x)\n",
    "    else:\n",
    "        return x\n",
    "    \n",
    "    return x.to(device)"
   ]
  },
  {
   "cell_type": "code",
   "execution_count": null,
   "id": "1a8797f2",
   "metadata": {},
   "outputs": [],
   "source": []
  }
 ],
 "metadata": {
  "kernelspec": {
   "display_name": "Python 3",
   "language": "python",
   "name": "python3"
  },
  "language_info": {
   "codemirror_mode": {
    "name": "ipython",
    "version": 3
   },
   "file_extension": ".py",
   "mimetype": "text/x-python",
   "name": "python",
   "nbconvert_exporter": "python",
   "pygments_lexer": "ipython3",
   "version": "3.6.7"
  }
 },
 "nbformat": 4,
 "nbformat_minor": 5
}
